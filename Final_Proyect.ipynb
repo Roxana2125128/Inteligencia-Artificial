{
  "nbformat": 4,
  "nbformat_minor": 0,
  "metadata": {
    "colab": {
      "provenance": [],
      "authorship_tag": "ABX9TyOZULhMvFSsMSHECmuC6TUj",
      "include_colab_link": true
    },
    "kernelspec": {
      "name": "python3",
      "display_name": "Python 3"
    },
    "language_info": {
      "name": "python"
    }
  },
  "cells": [
    {
      "cell_type": "markdown",
      "metadata": {
        "id": "view-in-github",
        "colab_type": "text"
      },
      "source": [
        "<a href=\"https://colab.research.google.com/github/Roxana2125128/Inteligencia-Artificial/blob/main/Final_Proyect.ipynb\" target=\"_parent\"><img src=\"https://colab.research.google.com/assets/colab-badge.svg\" alt=\"Open In Colab\"/></a>"
      ]
    },
    {
      "cell_type": "markdown",
      "source": [
        "# **Final Project.- Training a Machine Learning model on medical images.**\n",
        "\n",
        "Roxana Pamela Martínez Córdova 2125128\n",
        "\n",
        "Class: Tuesday N4 - N6"
      ],
      "metadata": {
        "id": "5HS9Ar9oHywE"
      }
    },
    {
      "cell_type": "code",
      "execution_count": 1,
      "metadata": {
        "id": "xmkHH_1lAQ-j"
      },
      "outputs": [],
      "source": [
        "import os\n",
        "import zipfile\n",
        "import cv2\n",
        "import tensorflow as tf\n",
        "import numpy as np\n",
        "import gc\n",
        "import matplotlib.pyplot as plt\n",
        "from sklearn.model_selection import train_test_split\n",
        "from tensorflow.keras import datasets, layers, models\n",
        "from tensorflow.keras.utils import to_categorical"
      ]
    },
    {
      "cell_type": "code",
      "source": [
        "from google.colab import drive\n",
        "drive.mount('/content/drive')"
      ],
      "metadata": {
        "id": "R3sCyeWeAwb3"
      },
      "execution_count": null,
      "outputs": []
    },
    {
      "cell_type": "code",
      "source": [
        "os.environ['KAGGLE_CONFIG_DIR'] = \"/content/gdrive/MyDrive/Kaggle\""
      ],
      "metadata": {
        "id": "TzeE3LipHCcI"
      },
      "execution_count": null,
      "outputs": []
    },
    {
      "cell_type": "code",
      "source": [
        "!kaggle datasets download -d uraninjo/augmented-alzheimer-mri-dataset"
      ],
      "metadata": {
        "id": "ar7rNtv8HGui"
      },
      "execution_count": null,
      "outputs": []
    },
    {
      "cell_type": "code",
      "source": [
        "zip_file = '/content/augmented-alzheimer-mri-dataset.zip'\n",
        "extract_dir = '/content/Dataset'\n",
        "\n",
        "with zipfile.ZipFile(zip_file, 'r') as zip_ref:\n",
        "    zip_ref.extractall(extract_dir)\n",
        "\n",
        "# Directorio del dataset\n",
        "dataset_dir = extract_dir"
      ],
      "metadata": {
        "id": "MTaXhirPHLJS"
      },
      "execution_count": null,
      "outputs": []
    },
    {
      "cell_type": "code",
      "source": [
        "# Verificar el contenido del directorio extraído\n",
        "print(\"Contenido del directorio extraído:\")\n",
        "print(os.listdir(extract_dir))"
      ],
      "metadata": {
        "id": "NHbHOBItHPTU"
      },
      "execution_count": null,
      "outputs": []
    },
    {
      "cell_type": "code",
      "source": [
        "augmented_dataset_dir = os.path.join(extract_dir, 'AugmentedAlzheimerDataset')\n",
        "print(f\"Contenido de {augmented_dataset_dir}:\")\n",
        "print(os.listdir(augmented_dataset_dir))\n",
        "dataset_dir = augmented_dataset_dir"
      ],
      "metadata": {
        "id": "AvxLzB03Hbys"
      },
      "execution_count": null,
      "outputs": []
    },
    {
      "cell_type": "code",
      "source": [
        "def cargar_datos(dataset_dir):\n",
        "    imagenes = []\n",
        "    etiquetas = []\n",
        "    categorias = {\n",
        "        'NonDemented': 0,\n",
        "        'ModerateDemented': 1,\n",
        "        'MildDemented': 1,\n",
        "        'VeryMildDemented': 1\n",
        "    }\n",
        "\n",
        "    for label, value in categorias.items():\n",
        "        folder_path = os.path.join(dataset_dir, label)\n",
        "        if not os.path.exists(folder_path):\n",
        "            print(f\"Advertencia: La carpeta {folder_path} no existe.\")\n",
        "            continue\n",
        "        for filename in os.listdir(folder_path):\n",
        "            image_path = os.path.join(folder_path, filename)\n",
        "            image = cv2.imread(image_path, cv2.IMREAD_GRAYSCALE)  # Cargar la imagen en escala de grises\n",
        "            if image is None:\n",
        "                print(f\"Advertencia: No se pudo cargar la imagen {image_path}.\")\n",
        "                continue\n",
        "            image = cv2.resize(image, (64, 64))  # Redimensionar todas las imágenes a 128x128 píxeles\n",
        "            imagenes.append(image)\n",
        "            etiquetas.append(value)\n",
        "\n",
        "    return np.array(imagenes), np.array(etiquetas)\n",
        "\n",
        "\n",
        "# Cargar imágenes y etiquetas\n",
        "imagenes, etiquetas = cargar_datos(dataset_dir)\n",
        "\n",
        "# Normalizar las imágenes\n",
        "imagenes = imagenes / 255.0\n",
        "\n",
        "# Convertir etiquetas a formato categórico\n",
        "etiquetas_categoricas = to_categorical(etiquetas)"
      ],
      "metadata": {
        "id": "fkBmSVIqHgbc"
      },
      "execution_count": null,
      "outputs": []
    },
    {
      "cell_type": "code",
      "source": [
        "x_train, x_test, y_train, y_test = train_test_split(imagenes, etiquetas_categoricas, test_size=0.2, random_state=42)"
      ],
      "metadata": {
        "id": "ctTYbcSxHjBo"
      },
      "execution_count": null,
      "outputs": []
    },
    {
      "cell_type": "code",
      "source": [
        "model = tf.keras.models.Sequential()\n",
        "model.add(tf.keras.layers.Conv2D(32, (3, 3), activation='relu', input_shape=(64, 64, 1)))\n",
        "model.add(tf.keras.layers.MaxPooling2D((2, 2)))\n",
        "model.add(tf.keras.layers.Conv2D(64, (3, 3), activation='relu'))\n",
        "model.add(tf.keras.layers.MaxPooling2D((2, 2)))\n",
        "model.add(tf.keras.layers.Conv2D(64, (3, 3), activation='relu'))\n",
        "model.add(layers.Flatten())\n",
        "model.add(layers.Dense(64, activation='relu'))\n",
        "model.add(layers.Dense(2, activation='softmax'))\n",
        "\n",
        "# Compilar el modelo\n",
        "model.compile(optimizer='adam', loss='categorical_crossentropy', metrics=['accuracy'])\n",
        "\n",
        "# Entrenar el modelo\n",
        "history = model.fit(x_train, y_train, epochs=10, validation_data=(x_test, y_test))\n",
        "\n",
        "# Evaluar el modelo\n",
        "test_loss, test_acc = model.evaluate(x_test, y_test)\n",
        "print(f'Accuracy: {test_acc}')"
      ],
      "metadata": {
        "id": "hxz36oIlHmpa"
      },
      "execution_count": null,
      "outputs": []
    },
    {
      "cell_type": "code",
      "source": [
        "# Graficar las pérdidas y exactitudes\n",
        "plt.plot(history.history['accuracy'], label='accuracy')\n",
        "plt.plot(history.history['val_accuracy'], label='val_accuracy')\n",
        "plt.xlabel('Epoch')\n",
        "plt.ylabel('Accuracy')\n",
        "plt.legend(loc='lower right')\n",
        "plt.show()\n",
        "\n",
        "plt.plot(history.history['loss'], label='loss')\n",
        "plt.plot(history.history['val_loss'], label='val_loss')\n",
        "plt.xlabel('Epoch')\n",
        "plt.ylabel('Loss')\n",
        "plt.legend(loc='upper right')\n",
        "plt.show()"
      ],
      "metadata": {
        "id": "MAlNfZE8Hpzc"
      },
      "execution_count": null,
      "outputs": []
    },
    {
      "cell_type": "code",
      "source": [
        "predictions = model.predict(x_test)\n",
        "label_map = {0: 'Not Demented', 1: 'Demented'}\n",
        "\n",
        "def plot_image(i, predictions_array, true_label, img):\n",
        "    true_label, img = np.argmax(true_label[i]), img[i].reshape(64, 64)\n",
        "    plt.grid(False)\n",
        "    plt.xticks([])\n",
        "    plt.yticks([])\n",
        "    plt.imshow(img, cmap=plt.cm.binary)\n",
        "\n",
        "    predicted_label = np.argmax(predictions_array)\n",
        "    if predicted_label == true_label:\n",
        "        color = 'blue'\n",
        "    else:\n",
        "        color = 'red'\n",
        "\n",
        "    plt.xlabel(\"{} {:2.0f}% ({})\".format(\n",
        "        predicted_label,\n",
        "        100*np.max(predictions_array),\n",
        "        true_label),\n",
        "        color=color)\n",
        "\n",
        "# Función para graficar la distribución de valores de predicción\n",
        "def plot_value_array(i, predictions_array, true_label):\n",
        "    true_label = np.argmax(true_label[i])\n",
        "    plt.grid(False)\n",
        "    plt.xticks(range(2))\n",
        "    plt.yticks([])\n",
        "    thisplot = plt.bar(range(2), predictions_array, color=\"#777777\")\n",
        "    plt.ylim([0, 1])\n",
        "    predicted_label = np.argmax(predictions_array)\n",
        "\n",
        "    thisplot[predicted_label].set_color('red')\n",
        "    thisplot[true_label].set_color('blue')"
      ],
      "metadata": {
        "id": "nCbmXu5BHt23"
      },
      "execution_count": null,
      "outputs": []
    },
    {
      "cell_type": "code",
      "source": [
        "label_map = {0: 'Not Demented', 1: 'Demented'}\n",
        "num_rows = 2\n",
        "num_cols = 5\n",
        "num_images = num_rows * num_cols\n",
        "plt.figure(figsize=(2 * 2 * num_cols, 2 * num_rows))\n",
        "for i in range(num_images):\n",
        "    plt.subplot(num_rows, 2 * num_cols, 2 * i + 1)\n",
        "    plot_image(i, predictions[i], y_test, x_test)\n",
        "    plt.subplot(num_rows, 2 * num_cols, 2 * i + 2)\n",
        "    plot_value_array(i, predictions[i], y_test)\n",
        "plt.tight_layout()\n",
        "plt.show()"
      ],
      "metadata": {
        "id": "k7aPXTgTHxOQ"
      },
      "execution_count": null,
      "outputs": []
    }
  ]
}